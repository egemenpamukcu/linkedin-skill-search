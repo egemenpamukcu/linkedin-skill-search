{
 "cells": [
  {
   "cell_type": "code",
   "execution_count": 1,
   "metadata": {},
   "outputs": [],
   "source": [
    "import requests\n",
    "import pandas as pd\n",
    "import bs4\n",
    "import string"
   ]
  },
  {
   "cell_type": "code",
   "execution_count": 3,
   "metadata": {},
   "outputs": [],
   "source": [
    "skills = ['sql', 'python', 'c++', 'julia', 'sas', 'spss', 'tableau', 'powerbi', 'excel', 'stata', 'r', 'spark', 'apache'\n",
    "         'mapreduce', 'hadoop', 'aws', 'azure', 'qlik', 'java', 'pandas', 'ggplot2', 'tidyverse', 'numpy', 'scipy', 'scikitlearn',\n",
    "          'jupyter', 'git', 'github', 'snowflake', 'looker', 'scala', 'matlab', 'bash', 'linux', 'unix', 'ubuntu', 'javascript', \n",
    "         'nosql', 'scala', 'pytorch', 'tensorwflow', 'mpi']"
   ]
  },
  {
   "cell_type": "code",
   "execution_count": 4,
   "metadata": {},
   "outputs": [],
   "source": [
    "def find_skills(num=100):\n",
    "    kn = num // 25\n",
    "    job_urls = []\n",
    "    search_term = input('Enter job search term (eg. Data Analyst): ')\n",
    "    location = input('Enter job location (eg. Chicago or United States): ')\n",
    "    search_term = '%20'.join(search_term.split())\n",
    "    location = '%20'.join(location.split())\n",
    "    skill_count = {}\n",
    "    \n",
    "    for i in range(kn):\n",
    "        url = 'https://www.linkedin.com/jobs/search/?keywords={}&location={}&start={}'.format(search_term,\n",
    "                                                                                              location,\n",
    "                                                                                              i * 25)\n",
    "        req1 = requests.get(url)\n",
    "        soup1 = bs4.BeautifulSoup(req1.text, 'html.parser')\n",
    "        a_list = soup1.find_all('ul', class_='jobs-search__results-list')[0].find_all('a', class_=\"result-card__full-card-link\")\n",
    "        for a in a_list:\n",
    "            soup = get_soup(a['href'])\n",
    "            descriptions = soup.find_all('div', class_='description__text')\n",
    "            if len(descriptions) > 0:\n",
    "                for w in descriptions[0].text.split():\n",
    "                    k = w.lower().translate(str.maketrans('', '', string.punctuation))\n",
    "                    if k in skills:\n",
    "                        skill_count[k] = skill_count.get(k, 0) + 1\n",
    "    \n",
    "    skill_df = pd.DataFrame(skill_count.values(), index=skill_count.keys(), \n",
    "                            columns=['Number of times skill is mentioned by {} job adverts)'.format(kn * 25)])\n",
    "    return skill_df.sort_values('Number of times skill is mentioned by {} job adverts)'.format(kn * 25), ascending=False)"
   ]
  },
  {
   "cell_type": "code",
   "execution_count": 5,
   "metadata": {},
   "outputs": [],
   "source": [
    "def get_soup(url):\n",
    "    req = requests.get(url)\n",
    "    soup = bs4.BeautifulSoup(req.text, 'html.parser')\n",
    "    return soup"
   ]
  },
  {
   "cell_type": "code",
   "execution_count": 8,
   "metadata": {},
   "outputs": [
    {
     "name": "stdout",
     "output_type": "stream",
     "text": [
      "Enter job search term (eg. Data Analyst): business intelligence\n",
      "Enter job location (eg. Chicago or United States): united states\n"
     ]
    },
    {
     "data": {
      "text/html": [
       "<div>\n",
       "<style scoped>\n",
       "    .dataframe tbody tr th:only-of-type {\n",
       "        vertical-align: middle;\n",
       "    }\n",
       "\n",
       "    .dataframe tbody tr th {\n",
       "        vertical-align: top;\n",
       "    }\n",
       "\n",
       "    .dataframe thead th {\n",
       "        text-align: right;\n",
       "    }\n",
       "</style>\n",
       "<table border=\"1\" class=\"dataframe\">\n",
       "  <thead>\n",
       "    <tr style=\"text-align: right;\">\n",
       "      <th></th>\n",
       "      <th>Number of times skill is mentioned by 100 job adverts)</th>\n",
       "    </tr>\n",
       "  </thead>\n",
       "  <tbody>\n",
       "    <tr>\n",
       "      <th>sql</th>\n",
       "      <td>123</td>\n",
       "    </tr>\n",
       "    <tr>\n",
       "      <th>tableau</th>\n",
       "      <td>56</td>\n",
       "    </tr>\n",
       "    <tr>\n",
       "      <th>looker</th>\n",
       "      <td>39</td>\n",
       "    </tr>\n",
       "    <tr>\n",
       "      <th>python</th>\n",
       "      <td>30</td>\n",
       "    </tr>\n",
       "    <tr>\n",
       "      <th>excel</th>\n",
       "      <td>29</td>\n",
       "    </tr>\n",
       "    <tr>\n",
       "      <th>r</th>\n",
       "      <td>16</td>\n",
       "    </tr>\n",
       "    <tr>\n",
       "      <th>snowflake</th>\n",
       "      <td>13</td>\n",
       "    </tr>\n",
       "    <tr>\n",
       "      <th>aws</th>\n",
       "      <td>12</td>\n",
       "    </tr>\n",
       "    <tr>\n",
       "      <th>qlik</th>\n",
       "      <td>11</td>\n",
       "    </tr>\n",
       "    <tr>\n",
       "      <th>github</th>\n",
       "      <td>8</td>\n",
       "    </tr>\n",
       "    <tr>\n",
       "      <th>powerbi</th>\n",
       "      <td>7</td>\n",
       "    </tr>\n",
       "    <tr>\n",
       "      <th>azure</th>\n",
       "      <td>7</td>\n",
       "    </tr>\n",
       "    <tr>\n",
       "      <th>nosql</th>\n",
       "      <td>4</td>\n",
       "    </tr>\n",
       "    <tr>\n",
       "      <th>javascript</th>\n",
       "      <td>4</td>\n",
       "    </tr>\n",
       "    <tr>\n",
       "      <th>spss</th>\n",
       "      <td>2</td>\n",
       "    </tr>\n",
       "    <tr>\n",
       "      <th>unix</th>\n",
       "      <td>1</td>\n",
       "    </tr>\n",
       "  </tbody>\n",
       "</table>\n",
       "</div>"
      ],
      "text/plain": [
       "            Number of times skill is mentioned by 100 job adverts)\n",
       "sql                                                       123     \n",
       "tableau                                                    56     \n",
       "looker                                                     39     \n",
       "python                                                     30     \n",
       "excel                                                      29     \n",
       "r                                                          16     \n",
       "snowflake                                                  13     \n",
       "aws                                                        12     \n",
       "qlik                                                       11     \n",
       "github                                                      8     \n",
       "powerbi                                                     7     \n",
       "azure                                                       7     \n",
       "nosql                                                       4     \n",
       "javascript                                                  4     \n",
       "spss                                                        2     \n",
       "unix                                                        1     "
      ]
     },
     "execution_count": 8,
     "metadata": {},
     "output_type": "execute_result"
    }
   ],
   "source": [
    "find_skills()"
   ]
  },
  {
   "cell_type": "code",
   "execution_count": null,
   "metadata": {},
   "outputs": [],
   "source": []
  }
 ],
 "metadata": {
  "kernelspec": {
   "display_name": "Python 3",
   "language": "python",
   "name": "python3"
  },
  "language_info": {
   "codemirror_mode": {
    "name": "ipython",
    "version": 3
   },
   "file_extension": ".py",
   "mimetype": "text/x-python",
   "name": "python",
   "nbconvert_exporter": "python",
   "pygments_lexer": "ipython3",
   "version": "3.8.3"
  }
 },
 "nbformat": 4,
 "nbformat_minor": 4
}
